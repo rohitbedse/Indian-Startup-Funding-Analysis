{
 "cells": [
  {
   "cell_type": "code",
   "execution_count": 1,
   "metadata": {
    "_cell_guid": "b1076dfc-b9ad-4769-8c92-a6c4dae69d19",
    "_uuid": "8f2839f25d086af736a60e9eeb907d3b93b6e0e5",
    "execution": {
     "iopub.execute_input": "2025-06-14T13:31:47.815184Z",
     "iopub.status.busy": "2025-06-14T13:31:47.814620Z",
     "iopub.status.idle": "2025-06-14T13:31:48.961894Z",
     "shell.execute_reply": "2025-06-14T13:31:48.960979Z",
     "shell.execute_reply.started": "2025-06-14T13:31:47.815153Z"
    }
   },
   "outputs": [
    {
     "name": "stdout",
     "output_type": "stream",
     "text": [
      "/kaggle/input/indian-startup-funding/startup_funding.csv\n"
     ]
    }
   ],
   "source": [
    "# This Python 3 environment comes with many helpful analytics libraries installed\n",
    "# It is defined by the kaggle/python Docker image: https://github.com/kaggle/docker-python\n",
    "# For example, here's several helpful packages to load\n",
    "\n",
    "import numpy as np # linear algebra\n",
    "import pandas as pd # data processing, CSV file I/O (e.g. pd.read_csv)\n",
    "\n",
    "# Input data files are available in the read-only \"../input/\" directory\n",
    "# For example, running this (by clicking run or pressing Shift+Enter) will list all files under the input directory\n",
    "\n",
    "import os\n",
    "for dirname, _, filenames in os.walk('/kaggle/input'):\n",
    "    for filename in filenames:\n",
    "        print(os.path.join(dirname, filename))\n",
    "\n",
    "# You can write up to 20GB to the current directory (/kaggle/working/) that gets preserved as output when you create a version using \"Save & Run All\" \n",
    "# You can also write temporary files to /kaggle/temp/, but they won't be saved outside of the current session"
   ]
  },
  {
   "cell_type": "code",
   "execution_count": 2,
   "metadata": {
    "execution": {
     "iopub.execute_input": "2025-06-14T13:31:48.963261Z",
     "iopub.status.busy": "2025-06-14T13:31:48.962855Z",
     "iopub.status.idle": "2025-06-14T13:31:49.009215Z",
     "shell.execute_reply": "2025-06-14T13:31:49.008195Z",
     "shell.execute_reply.started": "2025-06-14T13:31:48.963223Z"
    }
   },
   "outputs": [],
   "source": [
    "df = pd.read_csv('/kaggle/input/indian-startup-funding/startup_funding.csv')"
   ]
  },
  {
   "cell_type": "code",
   "execution_count": 3,
   "metadata": {
    "execution": {
     "iopub.execute_input": "2025-06-14T13:31:49.011643Z",
     "iopub.status.busy": "2025-06-14T13:31:49.011232Z",
     "iopub.status.idle": "2025-06-14T13:31:49.025142Z",
     "shell.execute_reply": "2025-06-14T13:31:49.024021Z",
     "shell.execute_reply.started": "2025-06-14T13:31:49.011613Z"
    }
   },
   "outputs": [
    {
     "data": {
      "text/plain": [
       "(3044, 10)"
      ]
     },
     "execution_count": 3,
     "metadata": {},
     "output_type": "execute_result"
    }
   ],
   "source": [
    "df.shape"
   ]
  },
  {
   "cell_type": "code",
   "execution_count": 4,
   "metadata": {
    "execution": {
     "iopub.execute_input": "2025-06-14T13:31:49.029548Z",
     "iopub.status.busy": "2025-06-14T13:31:49.029191Z",
     "iopub.status.idle": "2025-06-14T13:31:49.044118Z",
     "shell.execute_reply": "2025-06-14T13:31:49.043050Z",
     "shell.execute_reply.started": "2025-06-14T13:31:49.029510Z"
    }
   },
   "outputs": [],
   "source": [
    "#Preprocessing\n",
    "#drop -> remarks column\n",
    "#set index -> Sr no\n",
    "#rename column\n",
    "#convert amount to Rs Cr\n",
    "#date col\n",
    "#dropna"
   ]
  },
  {
   "cell_type": "code",
   "execution_count": 5,
   "metadata": {
    "execution": {
     "iopub.execute_input": "2025-06-14T13:31:49.045771Z",
     "iopub.status.busy": "2025-06-14T13:31:49.045283Z",
     "iopub.status.idle": "2025-06-14T13:31:49.083697Z",
     "shell.execute_reply": "2025-06-14T13:31:49.082646Z",
     "shell.execute_reply.started": "2025-06-14T13:31:49.045740Z"
    }
   },
   "outputs": [
    {
     "data": {
      "text/html": [
       "<div>\n",
       "<style scoped>\n",
       "    .dataframe tbody tr th:only-of-type {\n",
       "        vertical-align: middle;\n",
       "    }\n",
       "\n",
       "    .dataframe tbody tr th {\n",
       "        vertical-align: top;\n",
       "    }\n",
       "\n",
       "    .dataframe thead th {\n",
       "        text-align: right;\n",
       "    }\n",
       "</style>\n",
       "<table border=\"1\" class=\"dataframe\">\n",
       "  <thead>\n",
       "    <tr style=\"text-align: right;\">\n",
       "      <th></th>\n",
       "      <th>Sr No</th>\n",
       "      <th>Date dd/mm/yyyy</th>\n",
       "      <th>Startup Name</th>\n",
       "      <th>Industry Vertical</th>\n",
       "      <th>SubVertical</th>\n",
       "      <th>City  Location</th>\n",
       "      <th>Investors Name</th>\n",
       "      <th>InvestmentnType</th>\n",
       "      <th>Amount in USD</th>\n",
       "      <th>Remarks</th>\n",
       "    </tr>\n",
       "  </thead>\n",
       "  <tbody>\n",
       "    <tr>\n",
       "      <th>0</th>\n",
       "      <td>1</td>\n",
       "      <td>09/01/2020</td>\n",
       "      <td>BYJU’S</td>\n",
       "      <td>E-Tech</td>\n",
       "      <td>E-learning</td>\n",
       "      <td>Bengaluru</td>\n",
       "      <td>Tiger Global Management</td>\n",
       "      <td>Private Equity Round</td>\n",
       "      <td>20,00,00,000</td>\n",
       "      <td>NaN</td>\n",
       "    </tr>\n",
       "    <tr>\n",
       "      <th>1</th>\n",
       "      <td>2</td>\n",
       "      <td>13/01/2020</td>\n",
       "      <td>Shuttl</td>\n",
       "      <td>Transportation</td>\n",
       "      <td>App based shuttle service</td>\n",
       "      <td>Gurgaon</td>\n",
       "      <td>Susquehanna Growth Equity</td>\n",
       "      <td>Series C</td>\n",
       "      <td>80,48,394</td>\n",
       "      <td>NaN</td>\n",
       "    </tr>\n",
       "    <tr>\n",
       "      <th>2</th>\n",
       "      <td>3</td>\n",
       "      <td>09/01/2020</td>\n",
       "      <td>Mamaearth</td>\n",
       "      <td>E-commerce</td>\n",
       "      <td>Retailer of baby and toddler products</td>\n",
       "      <td>Bengaluru</td>\n",
       "      <td>Sequoia Capital India</td>\n",
       "      <td>Series B</td>\n",
       "      <td>1,83,58,860</td>\n",
       "      <td>NaN</td>\n",
       "    </tr>\n",
       "    <tr>\n",
       "      <th>3</th>\n",
       "      <td>4</td>\n",
       "      <td>02/01/2020</td>\n",
       "      <td>https://www.wealthbucket.in/</td>\n",
       "      <td>FinTech</td>\n",
       "      <td>Online Investment</td>\n",
       "      <td>New Delhi</td>\n",
       "      <td>Vinod Khatumal</td>\n",
       "      <td>Pre-series A</td>\n",
       "      <td>30,00,000</td>\n",
       "      <td>NaN</td>\n",
       "    </tr>\n",
       "    <tr>\n",
       "      <th>4</th>\n",
       "      <td>5</td>\n",
       "      <td>02/01/2020</td>\n",
       "      <td>Fashor</td>\n",
       "      <td>Fashion and Apparel</td>\n",
       "      <td>Embroiled Clothes For Women</td>\n",
       "      <td>Mumbai</td>\n",
       "      <td>Sprout Venture Partners</td>\n",
       "      <td>Seed Round</td>\n",
       "      <td>18,00,000</td>\n",
       "      <td>NaN</td>\n",
       "    </tr>\n",
       "  </tbody>\n",
       "</table>\n",
       "</div>"
      ],
      "text/plain": [
       "   Sr No Date dd/mm/yyyy                  Startup Name    Industry Vertical  \\\n",
       "0      1      09/01/2020                        BYJU’S               E-Tech   \n",
       "1      2      13/01/2020                        Shuttl       Transportation   \n",
       "2      3      09/01/2020                     Mamaearth           E-commerce   \n",
       "3      4      02/01/2020  https://www.wealthbucket.in/              FinTech   \n",
       "4      5      02/01/2020                        Fashor  Fashion and Apparel   \n",
       "\n",
       "                             SubVertical City  Location  \\\n",
       "0                             E-learning      Bengaluru   \n",
       "1              App based shuttle service        Gurgaon   \n",
       "2  Retailer of baby and toddler products      Bengaluru   \n",
       "3                      Online Investment      New Delhi   \n",
       "4            Embroiled Clothes For Women         Mumbai   \n",
       "\n",
       "              Investors Name       InvestmentnType Amount in USD Remarks  \n",
       "0    Tiger Global Management  Private Equity Round  20,00,00,000     NaN  \n",
       "1  Susquehanna Growth Equity              Series C     80,48,394     NaN  \n",
       "2      Sequoia Capital India              Series B   1,83,58,860     NaN  \n",
       "3             Vinod Khatumal          Pre-series A     30,00,000     NaN  \n",
       "4    Sprout Venture Partners            Seed Round     18,00,000     NaN  "
      ]
     },
     "execution_count": 5,
     "metadata": {},
     "output_type": "execute_result"
    }
   ],
   "source": [
    "df.head()"
   ]
  },
  {
   "cell_type": "code",
   "execution_count": 6,
   "metadata": {
    "execution": {
     "iopub.execute_input": "2025-06-14T13:31:49.084858Z",
     "iopub.status.busy": "2025-06-14T13:31:49.084611Z",
     "iopub.status.idle": "2025-06-14T13:31:49.113836Z",
     "shell.execute_reply": "2025-06-14T13:31:49.112906Z",
     "shell.execute_reply.started": "2025-06-14T13:31:49.084836Z"
    }
   },
   "outputs": [
    {
     "name": "stdout",
     "output_type": "stream",
     "text": [
      "<class 'pandas.core.frame.DataFrame'>\n",
      "RangeIndex: 3044 entries, 0 to 3043\n",
      "Data columns (total 10 columns):\n",
      " #   Column             Non-Null Count  Dtype \n",
      "---  ------             --------------  ----- \n",
      " 0   Sr No              3044 non-null   int64 \n",
      " 1   Date dd/mm/yyyy    3044 non-null   object\n",
      " 2   Startup Name       3044 non-null   object\n",
      " 3   Industry Vertical  2873 non-null   object\n",
      " 4   SubVertical        2108 non-null   object\n",
      " 5   City  Location     2864 non-null   object\n",
      " 6   Investors Name     3020 non-null   object\n",
      " 7   InvestmentnType    3040 non-null   object\n",
      " 8   Amount in USD      2084 non-null   object\n",
      " 9   Remarks            419 non-null    object\n",
      "dtypes: int64(1), object(9)\n",
      "memory usage: 237.9+ KB\n"
     ]
    }
   ],
   "source": [
    "df.info()"
   ]
  },
  {
   "cell_type": "code",
   "execution_count": 7,
   "metadata": {
    "execution": {
     "iopub.execute_input": "2025-06-14T13:31:49.115454Z",
     "iopub.status.busy": "2025-06-14T13:31:49.115174Z",
     "iopub.status.idle": "2025-06-14T13:31:49.124493Z",
     "shell.execute_reply": "2025-06-14T13:31:49.123419Z",
     "shell.execute_reply.started": "2025-06-14T13:31:49.115426Z"
    }
   },
   "outputs": [
    {
     "data": {
      "text/plain": [
       "Sr No                   0\n",
       "Date dd/mm/yyyy         0\n",
       "Startup Name            0\n",
       "Industry Vertical     171\n",
       "SubVertical           936\n",
       "City  Location        180\n",
       "Investors Name         24\n",
       "InvestmentnType         4\n",
       "Amount in USD         960\n",
       "Remarks              2625\n",
       "dtype: int64"
      ]
     },
     "execution_count": 7,
     "metadata": {},
     "output_type": "execute_result"
    }
   ],
   "source": [
    "df.isnull().sum()"
   ]
  },
  {
   "cell_type": "code",
   "execution_count": 8,
   "metadata": {
    "execution": {
     "iopub.execute_input": "2025-06-14T13:31:49.128430Z",
     "iopub.status.busy": "2025-06-14T13:31:49.128014Z",
     "iopub.status.idle": "2025-06-14T13:31:49.143372Z",
     "shell.execute_reply": "2025-06-14T13:31:49.142460Z",
     "shell.execute_reply.started": "2025-06-14T13:31:49.128406Z"
    }
   },
   "outputs": [],
   "source": [
    "df.drop(columns=['Remarks'],inplace=True)"
   ]
  },
  {
   "cell_type": "code",
   "execution_count": 9,
   "metadata": {
    "execution": {
     "iopub.execute_input": "2025-06-14T13:31:49.144622Z",
     "iopub.status.busy": "2025-06-14T13:31:49.144273Z",
     "iopub.status.idle": "2025-06-14T13:31:49.175429Z",
     "shell.execute_reply": "2025-06-14T13:31:49.173544Z",
     "shell.execute_reply.started": "2025-06-14T13:31:49.144593Z"
    }
   },
   "outputs": [
    {
     "data": {
      "text/html": [
       "<div>\n",
       "<style scoped>\n",
       "    .dataframe tbody tr th:only-of-type {\n",
       "        vertical-align: middle;\n",
       "    }\n",
       "\n",
       "    .dataframe tbody tr th {\n",
       "        vertical-align: top;\n",
       "    }\n",
       "\n",
       "    .dataframe thead th {\n",
       "        text-align: right;\n",
       "    }\n",
       "</style>\n",
       "<table border=\"1\" class=\"dataframe\">\n",
       "  <thead>\n",
       "    <tr style=\"text-align: right;\">\n",
       "      <th></th>\n",
       "      <th>Sr No</th>\n",
       "      <th>Date dd/mm/yyyy</th>\n",
       "      <th>Startup Name</th>\n",
       "      <th>Industry Vertical</th>\n",
       "      <th>SubVertical</th>\n",
       "      <th>City  Location</th>\n",
       "      <th>Investors Name</th>\n",
       "      <th>InvestmentnType</th>\n",
       "      <th>Amount in USD</th>\n",
       "    </tr>\n",
       "  </thead>\n",
       "  <tbody>\n",
       "    <tr>\n",
       "      <th>0</th>\n",
       "      <td>1</td>\n",
       "      <td>09/01/2020</td>\n",
       "      <td>BYJU’S</td>\n",
       "      <td>E-Tech</td>\n",
       "      <td>E-learning</td>\n",
       "      <td>Bengaluru</td>\n",
       "      <td>Tiger Global Management</td>\n",
       "      <td>Private Equity Round</td>\n",
       "      <td>20,00,00,000</td>\n",
       "    </tr>\n",
       "  </tbody>\n",
       "</table>\n",
       "</div>"
      ],
      "text/plain": [
       "   Sr No Date dd/mm/yyyy Startup Name Industry Vertical SubVertical  \\\n",
       "0      1      09/01/2020       BYJU’S            E-Tech  E-learning   \n",
       "\n",
       "  City  Location           Investors Name       InvestmentnType Amount in USD  \n",
       "0      Bengaluru  Tiger Global Management  Private Equity Round  20,00,00,000  "
      ]
     },
     "execution_count": 9,
     "metadata": {},
     "output_type": "execute_result"
    }
   ],
   "source": [
    "df.head(1)"
   ]
  },
  {
   "cell_type": "code",
   "execution_count": 10,
   "metadata": {
    "execution": {
     "iopub.execute_input": "2025-06-14T13:31:49.177124Z",
     "iopub.status.busy": "2025-06-14T13:31:49.176813Z",
     "iopub.status.idle": "2025-06-14T13:31:49.194466Z",
     "shell.execute_reply": "2025-06-14T13:31:49.192515Z",
     "shell.execute_reply.started": "2025-06-14T13:31:49.177085Z"
    }
   },
   "outputs": [],
   "source": [
    "df.set_index(['Sr No'],inplace=True)"
   ]
  },
  {
   "cell_type": "code",
   "execution_count": 11,
   "metadata": {
    "execution": {
     "iopub.execute_input": "2025-06-14T13:31:49.197113Z",
     "iopub.status.busy": "2025-06-14T13:31:49.196194Z",
     "iopub.status.idle": "2025-06-14T13:31:49.235845Z",
     "shell.execute_reply": "2025-06-14T13:31:49.234063Z",
     "shell.execute_reply.started": "2025-06-14T13:31:49.197064Z"
    }
   },
   "outputs": [
    {
     "data": {
      "text/html": [
       "<div>\n",
       "<style scoped>\n",
       "    .dataframe tbody tr th:only-of-type {\n",
       "        vertical-align: middle;\n",
       "    }\n",
       "\n",
       "    .dataframe tbody tr th {\n",
       "        vertical-align: top;\n",
       "    }\n",
       "\n",
       "    .dataframe thead th {\n",
       "        text-align: right;\n",
       "    }\n",
       "</style>\n",
       "<table border=\"1\" class=\"dataframe\">\n",
       "  <thead>\n",
       "    <tr style=\"text-align: right;\">\n",
       "      <th></th>\n",
       "      <th>Date dd/mm/yyyy</th>\n",
       "      <th>Startup Name</th>\n",
       "      <th>Industry Vertical</th>\n",
       "      <th>SubVertical</th>\n",
       "      <th>City  Location</th>\n",
       "      <th>Investors Name</th>\n",
       "      <th>InvestmentnType</th>\n",
       "      <th>Amount in USD</th>\n",
       "    </tr>\n",
       "    <tr>\n",
       "      <th>Sr No</th>\n",
       "      <th></th>\n",
       "      <th></th>\n",
       "      <th></th>\n",
       "      <th></th>\n",
       "      <th></th>\n",
       "      <th></th>\n",
       "      <th></th>\n",
       "      <th></th>\n",
       "    </tr>\n",
       "  </thead>\n",
       "  <tbody>\n",
       "    <tr>\n",
       "      <th>1</th>\n",
       "      <td>09/01/2020</td>\n",
       "      <td>BYJU’S</td>\n",
       "      <td>E-Tech</td>\n",
       "      <td>E-learning</td>\n",
       "      <td>Bengaluru</td>\n",
       "      <td>Tiger Global Management</td>\n",
       "      <td>Private Equity Round</td>\n",
       "      <td>20,00,00,000</td>\n",
       "    </tr>\n",
       "    <tr>\n",
       "      <th>2</th>\n",
       "      <td>13/01/2020</td>\n",
       "      <td>Shuttl</td>\n",
       "      <td>Transportation</td>\n",
       "      <td>App based shuttle service</td>\n",
       "      <td>Gurgaon</td>\n",
       "      <td>Susquehanna Growth Equity</td>\n",
       "      <td>Series C</td>\n",
       "      <td>80,48,394</td>\n",
       "    </tr>\n",
       "    <tr>\n",
       "      <th>3</th>\n",
       "      <td>09/01/2020</td>\n",
       "      <td>Mamaearth</td>\n",
       "      <td>E-commerce</td>\n",
       "      <td>Retailer of baby and toddler products</td>\n",
       "      <td>Bengaluru</td>\n",
       "      <td>Sequoia Capital India</td>\n",
       "      <td>Series B</td>\n",
       "      <td>1,83,58,860</td>\n",
       "    </tr>\n",
       "    <tr>\n",
       "      <th>4</th>\n",
       "      <td>02/01/2020</td>\n",
       "      <td>https://www.wealthbucket.in/</td>\n",
       "      <td>FinTech</td>\n",
       "      <td>Online Investment</td>\n",
       "      <td>New Delhi</td>\n",
       "      <td>Vinod Khatumal</td>\n",
       "      <td>Pre-series A</td>\n",
       "      <td>30,00,000</td>\n",
       "    </tr>\n",
       "    <tr>\n",
       "      <th>5</th>\n",
       "      <td>02/01/2020</td>\n",
       "      <td>Fashor</td>\n",
       "      <td>Fashion and Apparel</td>\n",
       "      <td>Embroiled Clothes For Women</td>\n",
       "      <td>Mumbai</td>\n",
       "      <td>Sprout Venture Partners</td>\n",
       "      <td>Seed Round</td>\n",
       "      <td>18,00,000</td>\n",
       "    </tr>\n",
       "  </tbody>\n",
       "</table>\n",
       "</div>"
      ],
      "text/plain": [
       "      Date dd/mm/yyyy                  Startup Name    Industry Vertical  \\\n",
       "Sr No                                                                      \n",
       "1          09/01/2020                        BYJU’S               E-Tech   \n",
       "2          13/01/2020                        Shuttl       Transportation   \n",
       "3          09/01/2020                     Mamaearth           E-commerce   \n",
       "4          02/01/2020  https://www.wealthbucket.in/              FinTech   \n",
       "5          02/01/2020                        Fashor  Fashion and Apparel   \n",
       "\n",
       "                                 SubVertical City  Location  \\\n",
       "Sr No                                                         \n",
       "1                                 E-learning      Bengaluru   \n",
       "2                  App based shuttle service        Gurgaon   \n",
       "3      Retailer of baby and toddler products      Bengaluru   \n",
       "4                          Online Investment      New Delhi   \n",
       "5                Embroiled Clothes For Women         Mumbai   \n",
       "\n",
       "                  Investors Name       InvestmentnType Amount in USD  \n",
       "Sr No                                                                 \n",
       "1        Tiger Global Management  Private Equity Round  20,00,00,000  \n",
       "2      Susquehanna Growth Equity              Series C     80,48,394  \n",
       "3          Sequoia Capital India              Series B   1,83,58,860  \n",
       "4                 Vinod Khatumal          Pre-series A     30,00,000  \n",
       "5        Sprout Venture Partners            Seed Round     18,00,000  "
      ]
     },
     "execution_count": 11,
     "metadata": {},
     "output_type": "execute_result"
    }
   ],
   "source": [
    "df.head()"
   ]
  },
  {
   "cell_type": "code",
   "execution_count": 12,
   "metadata": {
    "execution": {
     "iopub.execute_input": "2025-06-14T13:31:49.237917Z",
     "iopub.status.busy": "2025-06-14T13:31:49.237635Z",
     "iopub.status.idle": "2025-06-14T13:31:49.247201Z",
     "shell.execute_reply": "2025-06-14T13:31:49.246021Z",
     "shell.execute_reply.started": "2025-06-14T13:31:49.237895Z"
    }
   },
   "outputs": [],
   "source": [
    "df.rename(columns={\n",
    "    'Date dd/mm/yyyy':'date',\n",
    "    'Startup Name':'startup',\n",
    "    'Industry Vertical':'vertical',\n",
    "    'SubVertical':'subvertical',\n",
    "    'City  Location':'city',\n",
    "    'Investors Name':'investors',\n",
    "    'InvestmentnType':'round',#round of invesment series a , series b\n",
    "    'Amount in USD':'amount'\n",
    "},inplace=True)"
   ]
  },
  {
   "cell_type": "code",
   "execution_count": 13,
   "metadata": {
    "execution": {
     "iopub.execute_input": "2025-06-14T13:31:49.252594Z",
     "iopub.status.busy": "2025-06-14T13:31:49.250507Z",
     "iopub.status.idle": "2025-06-14T13:31:49.277644Z",
     "shell.execute_reply": "2025-06-14T13:31:49.276644Z",
     "shell.execute_reply.started": "2025-06-14T13:31:49.252560Z"
    }
   },
   "outputs": [
    {
     "data": {
      "text/html": [
       "<div>\n",
       "<style scoped>\n",
       "    .dataframe tbody tr th:only-of-type {\n",
       "        vertical-align: middle;\n",
       "    }\n",
       "\n",
       "    .dataframe tbody tr th {\n",
       "        vertical-align: top;\n",
       "    }\n",
       "\n",
       "    .dataframe thead th {\n",
       "        text-align: right;\n",
       "    }\n",
       "</style>\n",
       "<table border=\"1\" class=\"dataframe\">\n",
       "  <thead>\n",
       "    <tr style=\"text-align: right;\">\n",
       "      <th></th>\n",
       "      <th>date</th>\n",
       "      <th>startup</th>\n",
       "      <th>vertical</th>\n",
       "      <th>subvertical</th>\n",
       "      <th>city</th>\n",
       "      <th>investors</th>\n",
       "      <th>round</th>\n",
       "      <th>amount</th>\n",
       "    </tr>\n",
       "    <tr>\n",
       "      <th>Sr No</th>\n",
       "      <th></th>\n",
       "      <th></th>\n",
       "      <th></th>\n",
       "      <th></th>\n",
       "      <th></th>\n",
       "      <th></th>\n",
       "      <th></th>\n",
       "      <th></th>\n",
       "    </tr>\n",
       "  </thead>\n",
       "  <tbody>\n",
       "    <tr>\n",
       "      <th>1</th>\n",
       "      <td>09/01/2020</td>\n",
       "      <td>BYJU’S</td>\n",
       "      <td>E-Tech</td>\n",
       "      <td>E-learning</td>\n",
       "      <td>Bengaluru</td>\n",
       "      <td>Tiger Global Management</td>\n",
       "      <td>Private Equity Round</td>\n",
       "      <td>20,00,00,000</td>\n",
       "    </tr>\n",
       "    <tr>\n",
       "      <th>2</th>\n",
       "      <td>13/01/2020</td>\n",
       "      <td>Shuttl</td>\n",
       "      <td>Transportation</td>\n",
       "      <td>App based shuttle service</td>\n",
       "      <td>Gurgaon</td>\n",
       "      <td>Susquehanna Growth Equity</td>\n",
       "      <td>Series C</td>\n",
       "      <td>80,48,394</td>\n",
       "    </tr>\n",
       "    <tr>\n",
       "      <th>3</th>\n",
       "      <td>09/01/2020</td>\n",
       "      <td>Mamaearth</td>\n",
       "      <td>E-commerce</td>\n",
       "      <td>Retailer of baby and toddler products</td>\n",
       "      <td>Bengaluru</td>\n",
       "      <td>Sequoia Capital India</td>\n",
       "      <td>Series B</td>\n",
       "      <td>1,83,58,860</td>\n",
       "    </tr>\n",
       "    <tr>\n",
       "      <th>4</th>\n",
       "      <td>02/01/2020</td>\n",
       "      <td>https://www.wealthbucket.in/</td>\n",
       "      <td>FinTech</td>\n",
       "      <td>Online Investment</td>\n",
       "      <td>New Delhi</td>\n",
       "      <td>Vinod Khatumal</td>\n",
       "      <td>Pre-series A</td>\n",
       "      <td>30,00,000</td>\n",
       "    </tr>\n",
       "    <tr>\n",
       "      <th>5</th>\n",
       "      <td>02/01/2020</td>\n",
       "      <td>Fashor</td>\n",
       "      <td>Fashion and Apparel</td>\n",
       "      <td>Embroiled Clothes For Women</td>\n",
       "      <td>Mumbai</td>\n",
       "      <td>Sprout Venture Partners</td>\n",
       "      <td>Seed Round</td>\n",
       "      <td>18,00,000</td>\n",
       "    </tr>\n",
       "  </tbody>\n",
       "</table>\n",
       "</div>"
      ],
      "text/plain": [
       "             date                       startup             vertical  \\\n",
       "Sr No                                                                  \n",
       "1      09/01/2020                        BYJU’S               E-Tech   \n",
       "2      13/01/2020                        Shuttl       Transportation   \n",
       "3      09/01/2020                     Mamaearth           E-commerce   \n",
       "4      02/01/2020  https://www.wealthbucket.in/              FinTech   \n",
       "5      02/01/2020                        Fashor  Fashion and Apparel   \n",
       "\n",
       "                                 subvertical       city  \\\n",
       "Sr No                                                     \n",
       "1                                 E-learning  Bengaluru   \n",
       "2                  App based shuttle service    Gurgaon   \n",
       "3      Retailer of baby and toddler products  Bengaluru   \n",
       "4                          Online Investment  New Delhi   \n",
       "5                Embroiled Clothes For Women     Mumbai   \n",
       "\n",
       "                       investors                 round        amount  \n",
       "Sr No                                                                 \n",
       "1        Tiger Global Management  Private Equity Round  20,00,00,000  \n",
       "2      Susquehanna Growth Equity              Series C     80,48,394  \n",
       "3          Sequoia Capital India              Series B   1,83,58,860  \n",
       "4                 Vinod Khatumal          Pre-series A     30,00,000  \n",
       "5        Sprout Venture Partners            Seed Round     18,00,000  "
      ]
     },
     "execution_count": 13,
     "metadata": {},
     "output_type": "execute_result"
    }
   ],
   "source": [
    "df.head()"
   ]
  },
  {
   "cell_type": "code",
   "execution_count": 14,
   "metadata": {
    "execution": {
     "iopub.execute_input": "2025-06-14T13:31:49.279042Z",
     "iopub.status.busy": "2025-06-14T13:31:49.278801Z",
     "iopub.status.idle": "2025-06-14T13:31:49.286260Z",
     "shell.execute_reply": "2025-06-14T13:31:49.284989Z",
     "shell.execute_reply.started": "2025-06-14T13:31:49.279010Z"
    }
   },
   "outputs": [],
   "source": [
    "df['amount'] = df['amount'].fillna('0') #fill 0 where values is Nan"
   ]
  },
  {
   "cell_type": "code",
   "execution_count": 15,
   "metadata": {
    "execution": {
     "iopub.execute_input": "2025-06-14T13:31:49.287474Z",
     "iopub.status.busy": "2025-06-14T13:31:49.287164Z",
     "iopub.status.idle": "2025-06-14T13:31:49.310983Z",
     "shell.execute_reply": "2025-06-14T13:31:49.310073Z",
     "shell.execute_reply.started": "2025-06-14T13:31:49.287447Z"
    }
   },
   "outputs": [
    {
     "name": "stdout",
     "output_type": "stream",
     "text": [
      "<class 'pandas.core.frame.DataFrame'>\n",
      "Index: 3044 entries, 1 to 3044\n",
      "Data columns (total 8 columns):\n",
      " #   Column       Non-Null Count  Dtype \n",
      "---  ------       --------------  ----- \n",
      " 0   date         3044 non-null   object\n",
      " 1   startup      3044 non-null   object\n",
      " 2   vertical     2873 non-null   object\n",
      " 3   subvertical  2108 non-null   object\n",
      " 4   city         2864 non-null   object\n",
      " 5   investors    3020 non-null   object\n",
      " 6   round        3040 non-null   object\n",
      " 7   amount       3044 non-null   object\n",
      "dtypes: object(8)\n",
      "memory usage: 214.0+ KB\n"
     ]
    }
   ],
   "source": [
    "df.info()"
   ]
  },
  {
   "cell_type": "code",
   "execution_count": 16,
   "metadata": {
    "execution": {
     "iopub.execute_input": "2025-06-14T13:31:49.312311Z",
     "iopub.status.busy": "2025-06-14T13:31:49.311998Z",
     "iopub.status.idle": "2025-06-14T13:31:49.334458Z",
     "shell.execute_reply": "2025-06-14T13:31:49.333513Z",
     "shell.execute_reply.started": "2025-06-14T13:31:49.312283Z"
    }
   },
   "outputs": [],
   "source": [
    "df['amount'] = df['amount'].str.replace(',','') #to remove ,\n",
    "df['amount'] = df['amount'].str.replace('undisclosed','0') \n",
    "df['amount'] = df['amount'].str.replace('unknown','0') \n",
    "df['amount'] = df['amount'].str.replace('Undisclosed','0') "
   ]
  },
  {
   "cell_type": "code",
   "execution_count": 17,
   "metadata": {
    "execution": {
     "iopub.execute_input": "2025-06-14T13:31:49.335818Z",
     "iopub.status.busy": "2025-06-14T13:31:49.335505Z",
     "iopub.status.idle": "2025-06-14T13:31:49.354837Z",
     "shell.execute_reply": "2025-06-14T13:31:49.353401Z",
     "shell.execute_reply.started": "2025-06-14T13:31:49.335772Z"
    }
   },
   "outputs": [],
   "source": [
    "df = df[df['amount'].str.isdigit()]"
   ]
  },
  {
   "cell_type": "code",
   "execution_count": 18,
   "metadata": {
    "execution": {
     "iopub.execute_input": "2025-06-14T13:31:49.356547Z",
     "iopub.status.busy": "2025-06-14T13:31:49.355950Z",
     "iopub.status.idle": "2025-06-14T13:31:49.378007Z",
     "shell.execute_reply": "2025-06-14T13:31:49.377126Z",
     "shell.execute_reply.started": "2025-06-14T13:31:49.356514Z"
    }
   },
   "outputs": [],
   "source": [
    "df['amount'] = df['amount'].astype('float')"
   ]
  },
  {
   "cell_type": "code",
   "execution_count": 19,
   "metadata": {
    "execution": {
     "iopub.execute_input": "2025-06-14T13:31:49.379354Z",
     "iopub.status.busy": "2025-06-14T13:31:49.378971Z",
     "iopub.status.idle": "2025-06-14T13:31:49.403319Z",
     "shell.execute_reply": "2025-06-14T13:31:49.402364Z",
     "shell.execute_reply.started": "2025-06-14T13:31:49.379322Z"
    }
   },
   "outputs": [
    {
     "name": "stdout",
     "output_type": "stream",
     "text": [
      "<class 'pandas.core.frame.DataFrame'>\n",
      "Index: 3029 entries, 1 to 3044\n",
      "Data columns (total 8 columns):\n",
      " #   Column       Non-Null Count  Dtype  \n",
      "---  ------       --------------  -----  \n",
      " 0   date         3029 non-null   object \n",
      " 1   startup      3029 non-null   object \n",
      " 2   vertical     2858 non-null   object \n",
      " 3   subvertical  2104 non-null   object \n",
      " 4   city         2849 non-null   object \n",
      " 5   investors    3005 non-null   object \n",
      " 6   round        3027 non-null   object \n",
      " 7   amount       3029 non-null   float64\n",
      "dtypes: float64(1), object(7)\n",
      "memory usage: 213.0+ KB\n"
     ]
    }
   ],
   "source": [
    "df.info()"
   ]
  },
  {
   "cell_type": "code",
   "execution_count": 20,
   "metadata": {
    "execution": {
     "iopub.execute_input": "2025-06-14T13:31:49.404552Z",
     "iopub.status.busy": "2025-06-14T13:31:49.404292Z",
     "iopub.status.idle": "2025-06-14T13:31:49.428922Z",
     "shell.execute_reply": "2025-06-14T13:31:49.427842Z",
     "shell.execute_reply.started": "2025-06-14T13:31:49.404533Z"
    }
   },
   "outputs": [
    {
     "data": {
      "text/html": [
       "<div>\n",
       "<style scoped>\n",
       "    .dataframe tbody tr th:only-of-type {\n",
       "        vertical-align: middle;\n",
       "    }\n",
       "\n",
       "    .dataframe tbody tr th {\n",
       "        vertical-align: top;\n",
       "    }\n",
       "\n",
       "    .dataframe thead th {\n",
       "        text-align: right;\n",
       "    }\n",
       "</style>\n",
       "<table border=\"1\" class=\"dataframe\">\n",
       "  <thead>\n",
       "    <tr style=\"text-align: right;\">\n",
       "      <th></th>\n",
       "      <th>date</th>\n",
       "      <th>startup</th>\n",
       "      <th>vertical</th>\n",
       "      <th>subvertical</th>\n",
       "      <th>city</th>\n",
       "      <th>investors</th>\n",
       "      <th>round</th>\n",
       "      <th>amount</th>\n",
       "    </tr>\n",
       "    <tr>\n",
       "      <th>Sr No</th>\n",
       "      <th></th>\n",
       "      <th></th>\n",
       "      <th></th>\n",
       "      <th></th>\n",
       "      <th></th>\n",
       "      <th></th>\n",
       "      <th></th>\n",
       "      <th></th>\n",
       "    </tr>\n",
       "  </thead>\n",
       "  <tbody>\n",
       "    <tr>\n",
       "      <th>1</th>\n",
       "      <td>09/01/2020</td>\n",
       "      <td>BYJU’S</td>\n",
       "      <td>E-Tech</td>\n",
       "      <td>E-learning</td>\n",
       "      <td>Bengaluru</td>\n",
       "      <td>Tiger Global Management</td>\n",
       "      <td>Private Equity Round</td>\n",
       "      <td>200000000.0</td>\n",
       "    </tr>\n",
       "  </tbody>\n",
       "</table>\n",
       "</div>"
      ],
      "text/plain": [
       "             date startup vertical subvertical       city  \\\n",
       "Sr No                                                       \n",
       "1      09/01/2020  BYJU’S   E-Tech  E-learning  Bengaluru   \n",
       "\n",
       "                     investors                 round       amount  \n",
       "Sr No                                                              \n",
       "1      Tiger Global Management  Private Equity Round  200000000.0  "
      ]
     },
     "execution_count": 20,
     "metadata": {},
     "output_type": "execute_result"
    }
   ],
   "source": [
    "df.head(1)"
   ]
  },
  {
   "cell_type": "code",
   "execution_count": 21,
   "metadata": {
    "execution": {
     "iopub.execute_input": "2025-06-14T13:31:49.431211Z",
     "iopub.status.busy": "2025-06-14T13:31:49.430771Z",
     "iopub.status.idle": "2025-06-14T13:31:49.446886Z",
     "shell.execute_reply": "2025-06-14T13:31:49.445221Z",
     "shell.execute_reply.started": "2025-06-14T13:31:49.431179Z"
    }
   },
   "outputs": [],
   "source": [
    "def to_inr(dollor):\n",
    "    inr = dollor * 82.5\n",
    "    return inr/10000000"
   ]
  },
  {
   "cell_type": "code",
   "execution_count": 22,
   "metadata": {
    "execution": {
     "iopub.execute_input": "2025-06-14T13:31:49.448233Z",
     "iopub.status.busy": "2025-06-14T13:31:49.447883Z",
     "iopub.status.idle": "2025-06-14T13:31:49.467976Z",
     "shell.execute_reply": "2025-06-14T13:31:49.467088Z",
     "shell.execute_reply.started": "2025-06-14T13:31:49.448189Z"
    }
   },
   "outputs": [],
   "source": [
    "df['amount'] = df['amount'].apply(to_inr)"
   ]
  },
  {
   "cell_type": "code",
   "execution_count": 23,
   "metadata": {
    "execution": {
     "iopub.execute_input": "2025-06-14T13:31:49.468997Z",
     "iopub.status.busy": "2025-06-14T13:31:49.468716Z",
     "iopub.status.idle": "2025-06-14T13:31:49.501687Z",
     "shell.execute_reply": "2025-06-14T13:31:49.499675Z",
     "shell.execute_reply.started": "2025-06-14T13:31:49.468972Z"
    }
   },
   "outputs": [
    {
     "data": {
      "text/html": [
       "<div>\n",
       "<style scoped>\n",
       "    .dataframe tbody tr th:only-of-type {\n",
       "        vertical-align: middle;\n",
       "    }\n",
       "\n",
       "    .dataframe tbody tr th {\n",
       "        vertical-align: top;\n",
       "    }\n",
       "\n",
       "    .dataframe thead th {\n",
       "        text-align: right;\n",
       "    }\n",
       "</style>\n",
       "<table border=\"1\" class=\"dataframe\">\n",
       "  <thead>\n",
       "    <tr style=\"text-align: right;\">\n",
       "      <th></th>\n",
       "      <th>date</th>\n",
       "      <th>startup</th>\n",
       "      <th>vertical</th>\n",
       "      <th>subvertical</th>\n",
       "      <th>city</th>\n",
       "      <th>investors</th>\n",
       "      <th>round</th>\n",
       "      <th>amount</th>\n",
       "    </tr>\n",
       "    <tr>\n",
       "      <th>Sr No</th>\n",
       "      <th></th>\n",
       "      <th></th>\n",
       "      <th></th>\n",
       "      <th></th>\n",
       "      <th></th>\n",
       "      <th></th>\n",
       "      <th></th>\n",
       "      <th></th>\n",
       "    </tr>\n",
       "  </thead>\n",
       "  <tbody>\n",
       "    <tr>\n",
       "      <th>1</th>\n",
       "      <td>09/01/2020</td>\n",
       "      <td>BYJU’S</td>\n",
       "      <td>E-Tech</td>\n",
       "      <td>E-learning</td>\n",
       "      <td>Bengaluru</td>\n",
       "      <td>Tiger Global Management</td>\n",
       "      <td>Private Equity Round</td>\n",
       "      <td>1650.000000</td>\n",
       "    </tr>\n",
       "    <tr>\n",
       "      <th>2</th>\n",
       "      <td>13/01/2020</td>\n",
       "      <td>Shuttl</td>\n",
       "      <td>Transportation</td>\n",
       "      <td>App based shuttle service</td>\n",
       "      <td>Gurgaon</td>\n",
       "      <td>Susquehanna Growth Equity</td>\n",
       "      <td>Series C</td>\n",
       "      <td>66.399250</td>\n",
       "    </tr>\n",
       "    <tr>\n",
       "      <th>3</th>\n",
       "      <td>09/01/2020</td>\n",
       "      <td>Mamaearth</td>\n",
       "      <td>E-commerce</td>\n",
       "      <td>Retailer of baby and toddler products</td>\n",
       "      <td>Bengaluru</td>\n",
       "      <td>Sequoia Capital India</td>\n",
       "      <td>Series B</td>\n",
       "      <td>151.460595</td>\n",
       "    </tr>\n",
       "    <tr>\n",
       "      <th>4</th>\n",
       "      <td>02/01/2020</td>\n",
       "      <td>https://www.wealthbucket.in/</td>\n",
       "      <td>FinTech</td>\n",
       "      <td>Online Investment</td>\n",
       "      <td>New Delhi</td>\n",
       "      <td>Vinod Khatumal</td>\n",
       "      <td>Pre-series A</td>\n",
       "      <td>24.750000</td>\n",
       "    </tr>\n",
       "    <tr>\n",
       "      <th>5</th>\n",
       "      <td>02/01/2020</td>\n",
       "      <td>Fashor</td>\n",
       "      <td>Fashion and Apparel</td>\n",
       "      <td>Embroiled Clothes For Women</td>\n",
       "      <td>Mumbai</td>\n",
       "      <td>Sprout Venture Partners</td>\n",
       "      <td>Seed Round</td>\n",
       "      <td>14.850000</td>\n",
       "    </tr>\n",
       "  </tbody>\n",
       "</table>\n",
       "</div>"
      ],
      "text/plain": [
       "             date                       startup             vertical  \\\n",
       "Sr No                                                                  \n",
       "1      09/01/2020                        BYJU’S               E-Tech   \n",
       "2      13/01/2020                        Shuttl       Transportation   \n",
       "3      09/01/2020                     Mamaearth           E-commerce   \n",
       "4      02/01/2020  https://www.wealthbucket.in/              FinTech   \n",
       "5      02/01/2020                        Fashor  Fashion and Apparel   \n",
       "\n",
       "                                 subvertical       city  \\\n",
       "Sr No                                                     \n",
       "1                                 E-learning  Bengaluru   \n",
       "2                  App based shuttle service    Gurgaon   \n",
       "3      Retailer of baby and toddler products  Bengaluru   \n",
       "4                          Online Investment  New Delhi   \n",
       "5                Embroiled Clothes For Women     Mumbai   \n",
       "\n",
       "                       investors                 round       amount  \n",
       "Sr No                                                                \n",
       "1        Tiger Global Management  Private Equity Round  1650.000000  \n",
       "2      Susquehanna Growth Equity              Series C    66.399250  \n",
       "3          Sequoia Capital India              Series B   151.460595  \n",
       "4                 Vinod Khatumal          Pre-series A    24.750000  \n",
       "5        Sprout Venture Partners            Seed Round    14.850000  "
      ]
     },
     "execution_count": 23,
     "metadata": {},
     "output_type": "execute_result"
    }
   ],
   "source": [
    "df.head()"
   ]
  },
  {
   "cell_type": "code",
   "execution_count": 24,
   "metadata": {
    "execution": {
     "iopub.execute_input": "2025-06-14T13:31:49.502950Z",
     "iopub.status.busy": "2025-06-14T13:31:49.502681Z",
     "iopub.status.idle": "2025-06-14T13:31:49.520193Z",
     "shell.execute_reply": "2025-06-14T13:31:49.518603Z",
     "shell.execute_reply.started": "2025-06-14T13:31:49.502923Z"
    }
   },
   "outputs": [],
   "source": [
    "df['date'] = df['date'].str.replace('05/072018','05/07/2018')"
   ]
  },
  {
   "cell_type": "code",
   "execution_count": 25,
   "metadata": {
    "execution": {
     "iopub.execute_input": "2025-06-14T13:31:49.521861Z",
     "iopub.status.busy": "2025-06-14T13:31:49.521393Z",
     "iopub.status.idle": "2025-06-14T13:31:49.543384Z",
     "shell.execute_reply": "2025-06-14T13:31:49.542165Z",
     "shell.execute_reply.started": "2025-06-14T13:31:49.521824Z"
    }
   },
   "outputs": [],
   "source": [
    "df['date'] = pd.to_datetime(df['date'], format='%d/%m/%Y', errors='coerce')"
   ]
  },
  {
   "cell_type": "code",
   "execution_count": 26,
   "metadata": {
    "execution": {
     "iopub.execute_input": "2025-06-14T13:31:49.549760Z",
     "iopub.status.busy": "2025-06-14T13:31:49.549374Z",
     "iopub.status.idle": "2025-06-14T13:31:49.567021Z",
     "shell.execute_reply": "2025-06-14T13:31:49.565919Z",
     "shell.execute_reply.started": "2025-06-14T13:31:49.549736Z"
    }
   },
   "outputs": [
    {
     "data": {
      "text/html": [
       "<div>\n",
       "<style scoped>\n",
       "    .dataframe tbody tr th:only-of-type {\n",
       "        vertical-align: middle;\n",
       "    }\n",
       "\n",
       "    .dataframe tbody tr th {\n",
       "        vertical-align: top;\n",
       "    }\n",
       "\n",
       "    .dataframe thead th {\n",
       "        text-align: right;\n",
       "    }\n",
       "</style>\n",
       "<table border=\"1\" class=\"dataframe\">\n",
       "  <thead>\n",
       "    <tr style=\"text-align: right;\">\n",
       "      <th></th>\n",
       "      <th>date</th>\n",
       "      <th>startup</th>\n",
       "      <th>vertical</th>\n",
       "      <th>subvertical</th>\n",
       "      <th>city</th>\n",
       "      <th>investors</th>\n",
       "      <th>round</th>\n",
       "      <th>amount</th>\n",
       "    </tr>\n",
       "    <tr>\n",
       "      <th>Sr No</th>\n",
       "      <th></th>\n",
       "      <th></th>\n",
       "      <th></th>\n",
       "      <th></th>\n",
       "      <th></th>\n",
       "      <th></th>\n",
       "      <th></th>\n",
       "      <th></th>\n",
       "    </tr>\n",
       "  </thead>\n",
       "  <tbody>\n",
       "    <tr>\n",
       "      <th>1</th>\n",
       "      <td>2020-01-09</td>\n",
       "      <td>BYJU’S</td>\n",
       "      <td>E-Tech</td>\n",
       "      <td>E-learning</td>\n",
       "      <td>Bengaluru</td>\n",
       "      <td>Tiger Global Management</td>\n",
       "      <td>Private Equity Round</td>\n",
       "      <td>1650.000000</td>\n",
       "    </tr>\n",
       "    <tr>\n",
       "      <th>2</th>\n",
       "      <td>2020-01-13</td>\n",
       "      <td>Shuttl</td>\n",
       "      <td>Transportation</td>\n",
       "      <td>App based shuttle service</td>\n",
       "      <td>Gurgaon</td>\n",
       "      <td>Susquehanna Growth Equity</td>\n",
       "      <td>Series C</td>\n",
       "      <td>66.399250</td>\n",
       "    </tr>\n",
       "    <tr>\n",
       "      <th>3</th>\n",
       "      <td>2020-01-09</td>\n",
       "      <td>Mamaearth</td>\n",
       "      <td>E-commerce</td>\n",
       "      <td>Retailer of baby and toddler products</td>\n",
       "      <td>Bengaluru</td>\n",
       "      <td>Sequoia Capital India</td>\n",
       "      <td>Series B</td>\n",
       "      <td>151.460595</td>\n",
       "    </tr>\n",
       "    <tr>\n",
       "      <th>4</th>\n",
       "      <td>2020-01-02</td>\n",
       "      <td>https://www.wealthbucket.in/</td>\n",
       "      <td>FinTech</td>\n",
       "      <td>Online Investment</td>\n",
       "      <td>New Delhi</td>\n",
       "      <td>Vinod Khatumal</td>\n",
       "      <td>Pre-series A</td>\n",
       "      <td>24.750000</td>\n",
       "    </tr>\n",
       "    <tr>\n",
       "      <th>5</th>\n",
       "      <td>2020-01-02</td>\n",
       "      <td>Fashor</td>\n",
       "      <td>Fashion and Apparel</td>\n",
       "      <td>Embroiled Clothes For Women</td>\n",
       "      <td>Mumbai</td>\n",
       "      <td>Sprout Venture Partners</td>\n",
       "      <td>Seed Round</td>\n",
       "      <td>14.850000</td>\n",
       "    </tr>\n",
       "  </tbody>\n",
       "</table>\n",
       "</div>"
      ],
      "text/plain": [
       "            date                       startup             vertical  \\\n",
       "Sr No                                                                 \n",
       "1     2020-01-09                        BYJU’S               E-Tech   \n",
       "2     2020-01-13                        Shuttl       Transportation   \n",
       "3     2020-01-09                     Mamaearth           E-commerce   \n",
       "4     2020-01-02  https://www.wealthbucket.in/              FinTech   \n",
       "5     2020-01-02                        Fashor  Fashion and Apparel   \n",
       "\n",
       "                                 subvertical       city  \\\n",
       "Sr No                                                     \n",
       "1                                 E-learning  Bengaluru   \n",
       "2                  App based shuttle service    Gurgaon   \n",
       "3      Retailer of baby and toddler products  Bengaluru   \n",
       "4                          Online Investment  New Delhi   \n",
       "5                Embroiled Clothes For Women     Mumbai   \n",
       "\n",
       "                       investors                 round       amount  \n",
       "Sr No                                                                \n",
       "1        Tiger Global Management  Private Equity Round  1650.000000  \n",
       "2      Susquehanna Growth Equity              Series C    66.399250  \n",
       "3          Sequoia Capital India              Series B   151.460595  \n",
       "4                 Vinod Khatumal          Pre-series A    24.750000  \n",
       "5        Sprout Venture Partners            Seed Round    14.850000  "
      ]
     },
     "execution_count": 26,
     "metadata": {},
     "output_type": "execute_result"
    }
   ],
   "source": [
    "df.head()"
   ]
  },
  {
   "cell_type": "code",
   "execution_count": 27,
   "metadata": {
    "execution": {
     "iopub.execute_input": "2025-06-14T13:31:49.568706Z",
     "iopub.status.busy": "2025-06-14T13:31:49.568035Z",
     "iopub.status.idle": "2025-06-14T13:31:49.586512Z",
     "shell.execute_reply": "2025-06-14T13:31:49.585591Z",
     "shell.execute_reply.started": "2025-06-14T13:31:49.568675Z"
    }
   },
   "outputs": [
    {
     "data": {
      "text/plain": [
       "6"
      ]
     },
     "execution_count": 27,
     "metadata": {},
     "output_type": "execute_result"
    }
   ],
   "source": [
    "df['date'].isnull().sum()"
   ]
  },
  {
   "cell_type": "code",
   "execution_count": 28,
   "metadata": {
    "execution": {
     "iopub.execute_input": "2025-06-14T13:31:49.587959Z",
     "iopub.status.busy": "2025-06-14T13:31:49.587629Z",
     "iopub.status.idle": "2025-06-14T13:31:49.614848Z",
     "shell.execute_reply": "2025-06-14T13:31:49.613439Z",
     "shell.execute_reply.started": "2025-06-14T13:31:49.587931Z"
    }
   },
   "outputs": [
    {
     "name": "stdout",
     "output_type": "stream",
     "text": [
      "<class 'pandas.core.frame.DataFrame'>\n",
      "Index: 3029 entries, 1 to 3044\n",
      "Data columns (total 8 columns):\n",
      " #   Column       Non-Null Count  Dtype         \n",
      "---  ------       --------------  -----         \n",
      " 0   date         3023 non-null   datetime64[ns]\n",
      " 1   startup      3029 non-null   object        \n",
      " 2   vertical     2858 non-null   object        \n",
      " 3   subvertical  2104 non-null   object        \n",
      " 4   city         2849 non-null   object        \n",
      " 5   investors    3005 non-null   object        \n",
      " 6   round        3027 non-null   object        \n",
      " 7   amount       3029 non-null   float64       \n",
      "dtypes: datetime64[ns](1), float64(1), object(6)\n",
      "memory usage: 213.0+ KB\n"
     ]
    }
   ],
   "source": [
    "df.info()"
   ]
  },
  {
   "cell_type": "code",
   "execution_count": null,
   "metadata": {},
   "outputs": [],
   "source": []
  },
  {
   "cell_type": "code",
   "execution_count": 29,
   "metadata": {
    "execution": {
     "iopub.execute_input": "2025-06-14T13:31:49.616297Z",
     "iopub.status.busy": "2025-06-14T13:31:49.615962Z",
     "iopub.status.idle": "2025-06-14T13:31:49.644637Z",
     "shell.execute_reply": "2025-06-14T13:31:49.642899Z",
     "shell.execute_reply.started": "2025-06-14T13:31:49.616271Z"
    }
   },
   "outputs": [
    {
     "name": "stdout",
     "output_type": "stream",
     "text": [
      "<class 'pandas.core.frame.DataFrame'>\n",
      "Index: 3029 entries, 1 to 3044\n",
      "Data columns (total 8 columns):\n",
      " #   Column       Non-Null Count  Dtype         \n",
      "---  ------       --------------  -----         \n",
      " 0   date         3023 non-null   datetime64[ns]\n",
      " 1   startup      3029 non-null   object        \n",
      " 2   vertical     2858 non-null   object        \n",
      " 3   subvertical  2104 non-null   object        \n",
      " 4   city         2849 non-null   object        \n",
      " 5   investors    3005 non-null   object        \n",
      " 6   round        3027 non-null   object        \n",
      " 7   amount       3029 non-null   float64       \n",
      "dtypes: datetime64[ns](1), float64(1), object(6)\n",
      "memory usage: 213.0+ KB\n"
     ]
    }
   ],
   "source": [
    "df.info()"
   ]
  },
  {
   "cell_type": "code",
   "execution_count": 30,
   "metadata": {
    "execution": {
     "iopub.execute_input": "2025-06-14T13:31:49.645730Z",
     "iopub.status.busy": "2025-06-14T13:31:49.645440Z",
     "iopub.status.idle": "2025-06-14T13:31:49.668972Z",
     "shell.execute_reply": "2025-06-14T13:31:49.667852Z",
     "shell.execute_reply.started": "2025-06-14T13:31:49.645705Z"
    }
   },
   "outputs": [],
   "source": [
    "df = df.dropna(subset=['date','vertical','startup','city','investors','round','amount'])"
   ]
  },
  {
   "cell_type": "code",
   "execution_count": 31,
   "metadata": {
    "execution": {
     "iopub.execute_input": "2025-06-14T13:31:49.670436Z",
     "iopub.status.busy": "2025-06-14T13:31:49.670138Z",
     "iopub.status.idle": "2025-06-14T13:31:49.691266Z",
     "shell.execute_reply": "2025-06-14T13:31:49.689703Z",
     "shell.execute_reply.started": "2025-06-14T13:31:49.670410Z"
    }
   },
   "outputs": [
    {
     "name": "stdout",
     "output_type": "stream",
     "text": [
      "<class 'pandas.core.frame.DataFrame'>\n",
      "Index: 2819 entries, 1 to 2873\n",
      "Data columns (total 8 columns):\n",
      " #   Column       Non-Null Count  Dtype         \n",
      "---  ------       --------------  -----         \n",
      " 0   date         2819 non-null   datetime64[ns]\n",
      " 1   startup      2819 non-null   object        \n",
      " 2   vertical     2819 non-null   object        \n",
      " 3   subvertical  2078 non-null   object        \n",
      " 4   city         2819 non-null   object        \n",
      " 5   investors    2819 non-null   object        \n",
      " 6   round        2819 non-null   object        \n",
      " 7   amount       2819 non-null   float64       \n",
      "dtypes: datetime64[ns](1), float64(1), object(6)\n",
      "memory usage: 198.2+ KB\n"
     ]
    }
   ],
   "source": [
    "df.info()"
   ]
  },
  {
   "cell_type": "code",
   "execution_count": 78,
   "metadata": {
    "execution": {
     "iopub.execute_input": "2025-06-14T13:40:39.553012Z",
     "iopub.status.busy": "2025-06-14T13:40:39.552709Z",
     "iopub.status.idle": "2025-06-14T13:40:39.586791Z",
     "shell.execute_reply": "2025-06-14T13:40:39.585942Z",
     "shell.execute_reply.started": "2025-06-14T13:40:39.552990Z"
    }
   },
   "outputs": [
    {
     "data": {
      "text/plain": [
       "3457"
      ]
     },
     "execution_count": 78,
     "metadata": {},
     "output_type": "execute_result"
    }
   ],
   "source": [
    "len(sorted(set(df['investors'].str.split(',').sum())))"
   ]
  },
  {
   "cell_type": "code",
   "execution_count": 34,
   "metadata": {
    "execution": {
     "iopub.execute_input": "2025-06-14T13:31:49.789429Z",
     "iopub.status.busy": "2025-06-14T13:31:49.789075Z",
     "iopub.status.idle": "2025-06-14T13:31:49.806652Z",
     "shell.execute_reply": "2025-06-14T13:31:49.805398Z",
     "shell.execute_reply.started": "2025-06-14T13:31:49.789404Z"
    }
   },
   "outputs": [
    {
     "data": {
      "text/html": [
       "<div>\n",
       "<style scoped>\n",
       "    .dataframe tbody tr th:only-of-type {\n",
       "        vertical-align: middle;\n",
       "    }\n",
       "\n",
       "    .dataframe tbody tr th {\n",
       "        vertical-align: top;\n",
       "    }\n",
       "\n",
       "    .dataframe thead th {\n",
       "        text-align: right;\n",
       "    }\n",
       "</style>\n",
       "<table border=\"1\" class=\"dataframe\">\n",
       "  <thead>\n",
       "    <tr style=\"text-align: right;\">\n",
       "      <th></th>\n",
       "      <th>date</th>\n",
       "      <th>startup</th>\n",
       "      <th>vertical</th>\n",
       "      <th>subvertical</th>\n",
       "      <th>city</th>\n",
       "      <th>investors</th>\n",
       "      <th>round</th>\n",
       "      <th>amount</th>\n",
       "    </tr>\n",
       "    <tr>\n",
       "      <th>Sr No</th>\n",
       "      <th></th>\n",
       "      <th></th>\n",
       "      <th></th>\n",
       "      <th></th>\n",
       "      <th></th>\n",
       "      <th></th>\n",
       "      <th></th>\n",
       "      <th></th>\n",
       "    </tr>\n",
       "  </thead>\n",
       "  <tbody>\n",
       "    <tr>\n",
       "      <th>234</th>\n",
       "      <td>2018-06-11</td>\n",
       "      <td>Theranosis</td>\n",
       "      <td>Healthcare</td>\n",
       "      <td>Specialised diagnostics Platform</td>\n",
       "      <td>Hyderabad</td>\n",
       "      <td>Mumbai Angels Network</td>\n",
       "      <td>Seed/ Angel Funding</td>\n",
       "      <td>0.0000</td>\n",
       "    </tr>\n",
       "    <tr>\n",
       "      <th>394</th>\n",
       "      <td>2018-01-05</td>\n",
       "      <td>WOTU</td>\n",
       "      <td>E-commerce</td>\n",
       "      <td>Food and Beverages</td>\n",
       "      <td>Bengaluru</td>\n",
       "      <td>Claris Capital, Mumbai Angels Network</td>\n",
       "      <td>Angel / Seed Funding</td>\n",
       "      <td>0.0000</td>\n",
       "    </tr>\n",
       "    <tr>\n",
       "      <th>457</th>\n",
       "      <td>2017-12-14</td>\n",
       "      <td>WeDoSky</td>\n",
       "      <td>Technology</td>\n",
       "      <td>Provides Business Insights using Drone Imaginary</td>\n",
       "      <td>Delhi</td>\n",
       "      <td>Mumbai Angels Network</td>\n",
       "      <td>Private Equity</td>\n",
       "      <td>0.0000</td>\n",
       "    </tr>\n",
       "    <tr>\n",
       "      <th>1080</th>\n",
       "      <td>2017-01-18</td>\n",
       "      <td>Vahdam Teas</td>\n",
       "      <td>eCommerce</td>\n",
       "      <td>Online Tea etailer</td>\n",
       "      <td>New Delhi</td>\n",
       "      <td>Mumbai Angels Network, Fireside Ventures, Sing...</td>\n",
       "      <td>Seed Funding</td>\n",
       "      <td>5.3625</td>\n",
       "    </tr>\n",
       "  </tbody>\n",
       "</table>\n",
       "</div>"
      ],
      "text/plain": [
       "            date      startup    vertical  \\\n",
       "Sr No                                       \n",
       "234   2018-06-11   Theranosis  Healthcare   \n",
       "394   2018-01-05         WOTU  E-commerce   \n",
       "457   2017-12-14      WeDoSky  Technology   \n",
       "1080  2017-01-18  Vahdam Teas   eCommerce   \n",
       "\n",
       "                                            subvertical       city  \\\n",
       "Sr No                                                                \n",
       "234                    Specialised diagnostics Platform  Hyderabad   \n",
       "394                                  Food and Beverages  Bengaluru   \n",
       "457    Provides Business Insights using Drone Imaginary      Delhi   \n",
       "1080                                 Online Tea etailer  New Delhi   \n",
       "\n",
       "                                               investors  \\\n",
       "Sr No                                                      \n",
       "234                                Mumbai Angels Network   \n",
       "394                Claris Capital, Mumbai Angels Network   \n",
       "457                                Mumbai Angels Network   \n",
       "1080   Mumbai Angels Network, Fireside Ventures, Sing...   \n",
       "\n",
       "                      round  amount  \n",
       "Sr No                                \n",
       "234     Seed/ Angel Funding  0.0000  \n",
       "394    Angel / Seed Funding  0.0000  \n",
       "457          Private Equity  0.0000  \n",
       "1080           Seed Funding  5.3625  "
      ]
     },
     "execution_count": 34,
     "metadata": {},
     "output_type": "execute_result"
    }
   ],
   "source": [
    "df[df['investors'].str.contains('Mumbai Angels Network')]"
   ]
  },
  {
   "cell_type": "code",
   "execution_count": 35,
   "metadata": {
    "execution": {
     "iopub.execute_input": "2025-06-14T13:31:49.808141Z",
     "iopub.status.busy": "2025-06-14T13:31:49.807807Z",
     "iopub.status.idle": "2025-06-14T13:31:49.829648Z",
     "shell.execute_reply": "2025-06-14T13:31:49.828591Z",
     "shell.execute_reply.started": "2025-06-14T13:31:49.808116Z"
    }
   },
   "outputs": [
    {
     "data": {
      "text/html": [
       "<div>\n",
       "<style scoped>\n",
       "    .dataframe tbody tr th:only-of-type {\n",
       "        vertical-align: middle;\n",
       "    }\n",
       "\n",
       "    .dataframe tbody tr th {\n",
       "        vertical-align: top;\n",
       "    }\n",
       "\n",
       "    .dataframe thead th {\n",
       "        text-align: right;\n",
       "    }\n",
       "</style>\n",
       "<table border=\"1\" class=\"dataframe\">\n",
       "  <thead>\n",
       "    <tr style=\"text-align: right;\">\n",
       "      <th></th>\n",
       "      <th>date</th>\n",
       "      <th>startup</th>\n",
       "      <th>city</th>\n",
       "      <th>round</th>\n",
       "      <th>amount</th>\n",
       "    </tr>\n",
       "    <tr>\n",
       "      <th>Sr No</th>\n",
       "      <th></th>\n",
       "      <th></th>\n",
       "      <th></th>\n",
       "      <th></th>\n",
       "      <th></th>\n",
       "    </tr>\n",
       "  </thead>\n",
       "  <tbody>\n",
       "    <tr>\n",
       "      <th>102</th>\n",
       "      <td>2019-04-13</td>\n",
       "      <td>Tripoto</td>\n",
       "      <td>New Delhi</td>\n",
       "      <td>Series B</td>\n",
       "      <td>29.628844</td>\n",
       "    </tr>\n",
       "    <tr>\n",
       "      <th>223</th>\n",
       "      <td>2018-07-30</td>\n",
       "      <td>Cure Fit</td>\n",
       "      <td>Bengaluru</td>\n",
       "      <td>Private Equity</td>\n",
       "      <td>990.000000</td>\n",
       "    </tr>\n",
       "    <tr>\n",
       "      <th>259</th>\n",
       "      <td>2018-05-02</td>\n",
       "      <td>Bizongo</td>\n",
       "      <td>Mumbai</td>\n",
       "      <td>Private Equity</td>\n",
       "      <td>181.500000</td>\n",
       "    </tr>\n",
       "    <tr>\n",
       "      <th>310</th>\n",
       "      <td>2018-04-26</td>\n",
       "      <td>POPxo</td>\n",
       "      <td>Delhi</td>\n",
       "      <td>Private Equity</td>\n",
       "      <td>45.375000</td>\n",
       "    </tr>\n",
       "    <tr>\n",
       "      <th>439</th>\n",
       "      <td>2017-12-07</td>\n",
       "      <td>eShakti</td>\n",
       "      <td>Chennai</td>\n",
       "      <td>Debt Funding</td>\n",
       "      <td>18.975000</td>\n",
       "    </tr>\n",
       "  </tbody>\n",
       "</table>\n",
       "</div>"
      ],
      "text/plain": [
       "            date   startup       city           round      amount\n",
       "Sr No                                                            \n",
       "102   2019-04-13   Tripoto  New Delhi        Series B   29.628844\n",
       "223   2018-07-30  Cure Fit  Bengaluru  Private Equity  990.000000\n",
       "259   2018-05-02   Bizongo     Mumbai  Private Equity  181.500000\n",
       "310   2018-04-26     POPxo      Delhi  Private Equity   45.375000\n",
       "439   2017-12-07   eShakti    Chennai    Debt Funding   18.975000"
      ]
     },
     "execution_count": 35,
     "metadata": {},
     "output_type": "execute_result"
    }
   ],
   "source": [
    "df[df['investors'].str.contains('IDG Ventures')].head()[['date','startup','city','round','amount']]"
   ]
  },
  {
   "cell_type": "code",
   "execution_count": 36,
   "metadata": {
    "execution": {
     "iopub.execute_input": "2025-06-14T13:31:49.831675Z",
     "iopub.status.busy": "2025-06-14T13:31:49.830764Z",
     "iopub.status.idle": "2025-06-14T13:31:49.858821Z",
     "shell.execute_reply": "2025-06-14T13:31:49.857393Z",
     "shell.execute_reply.started": "2025-06-14T13:31:49.831644Z"
    }
   },
   "outputs": [
    {
     "name": "stdout",
     "output_type": "stream",
     "text": [
      "<class 'pandas.core.frame.DataFrame'>\n",
      "Index: 2819 entries, 1 to 2873\n",
      "Data columns (total 8 columns):\n",
      " #   Column       Non-Null Count  Dtype         \n",
      "---  ------       --------------  -----         \n",
      " 0   date         2819 non-null   datetime64[ns]\n",
      " 1   startup      2819 non-null   object        \n",
      " 2   vertical     2819 non-null   object        \n",
      " 3   subvertical  2078 non-null   object        \n",
      " 4   city         2819 non-null   object        \n",
      " 5   investors    2819 non-null   object        \n",
      " 6   round        2819 non-null   object        \n",
      " 7   amount       2819 non-null   float64       \n",
      "dtypes: datetime64[ns](1), float64(1), object(6)\n",
      "memory usage: 198.2+ KB\n"
     ]
    }
   ],
   "source": [
    "df.info()"
   ]
  },
  {
   "cell_type": "code",
   "execution_count": 37,
   "metadata": {
    "execution": {
     "iopub.execute_input": "2025-06-14T13:31:49.860132Z",
     "iopub.status.busy": "2025-06-14T13:31:49.859799Z",
     "iopub.status.idle": "2025-06-14T13:31:49.884228Z",
     "shell.execute_reply": "2025-06-14T13:31:49.883259Z",
     "shell.execute_reply.started": "2025-06-14T13:31:49.860081Z"
    }
   },
   "outputs": [
    {
     "data": {
      "text/plain": [
       "startup\n",
       "Cure Fit                 990.000000\n",
       "Lenskart                 495.000000\n",
       "Bizongo                  206.250000\n",
       "CureFit                  206.250000\n",
       "Curefit                  123.750000\n",
       "Fintellix                123.750000\n",
       "Xpressbees               103.125000\n",
       "FirstCry.com              82.500000\n",
       "Uniphore                  72.600000\n",
       "POPxo                     70.950000\n",
       "HealthifyMe               49.500000\n",
       "\\\\xc2\\\\xa0CloudCherry     49.500000\n",
       "Sigtuple                  47.850000\n",
       "Flyrobe                   43.725000\n",
       "RentMojo                  41.250000\n",
       "Aasaanjobs                41.250000\n",
       "Vayana                    33.000000\n",
       "Agrostar                  33.000000\n",
       "PlaySimple                33.000000\n",
       "Blowhorn                  30.112500\n",
       "Tripoto                   29.628844\n",
       "Active.ai                 24.750000\n",
       "Heckyl                    22.275000\n",
       "CreditMantri              20.625000\n",
       "eShakti                   18.975000\n",
       "Zimmber                   16.500000\n",
       "POPxo.com                 16.500000\n",
       "RentoMojo                 16.500000\n",
       "mPaani                    11.137500\n",
       "Hansel.io                 11.137500\n",
       "Pluss                      8.250000\n",
       "Hevo Data                  8.250000\n",
       "Cloudcherry Analytics      8.250000\n",
       "Little Black Book          8.250000\n",
       "CityFlo                    6.187500\n",
       "Infisecure                 4.950000\n",
       "Smart Karma                0.000000\n",
       "Unbxd                      0.000000\n",
       "Mobiliz AR                 0.000000\n",
       "iCrushiFlush               0.000000\n",
       "Name: amount, dtype: float64"
      ]
     },
     "execution_count": 37,
     "metadata": {},
     "output_type": "execute_result"
    }
   ],
   "source": [
    "df[df['investors'].str.contains('IDG Ventures')].groupby('startup')['amount'].sum().sort_values(ascending=False)"
   ]
  },
  {
   "cell_type": "code",
   "execution_count": 72,
   "metadata": {
    "execution": {
     "iopub.execute_input": "2025-06-14T13:38:00.832803Z",
     "iopub.status.busy": "2025-06-14T13:38:00.832484Z",
     "iopub.status.idle": "2025-06-14T13:38:00.951984Z",
     "shell.execute_reply": "2025-06-14T13:38:00.951081Z",
     "shell.execute_reply.started": "2025-06-14T13:38:00.832781Z"
    }
   },
   "outputs": [
    {
     "data": {
      "text/plain": [
       "<Axes: ylabel='amount'>"
      ]
     },
     "execution_count": 72,
     "metadata": {},
     "output_type": "execute_result"
    },
    {
     "data": {
      "image/png": "[encoded data removed]",
      "text/plain": [
       "<Figure size 640x480 with 1 Axes>"
      ]
     },
     "metadata": {},
     "output_type": "display_data"
    }
   ],
   "source": [
    "df[df['investors'].str.contains('Trifecta Capital')].groupby('vertical')['amount'].sum().plot(kind='pie')"
   ]
  },
  {
   "cell_type": "code",
   "execution_count": 69,
   "metadata": {
    "execution": {
     "iopub.execute_input": "2025-06-14T13:37:19.546618Z",
     "iopub.status.busy": "2025-06-14T13:37:19.546232Z",
     "iopub.status.idle": "2025-06-14T13:37:19.554422Z",
     "shell.execute_reply": "2025-06-14T13:37:19.553479Z",
     "shell.execute_reply.started": "2025-06-14T13:37:19.546593Z"
    }
   },
   "outputs": [
    {
     "data": {
      "text/plain": [
       "Sr No\n",
       "1064    Vividhity Ventures\n",
       "512       Sandeep Aggarwal\n",
       "1379        Accel Partners\n",
       "364         Social Capital\n",
       "2068      Trifecta Capital\n",
       "Name: investors, dtype: object"
      ]
     },
     "execution_count": 69,
     "metadata": {},
     "output_type": "execute_result"
    }
   ],
   "source": [
    "df['investors'].sample(5)"
   ]
  },
  {
   "cell_type": "code",
   "execution_count": 39,
   "metadata": {
    "execution": {
     "iopub.execute_input": "2025-06-14T13:31:50.309850Z",
     "iopub.status.busy": "2025-06-14T13:31:50.309587Z",
     "iopub.status.idle": "2025-06-14T13:31:50.323138Z",
     "shell.execute_reply": "2025-06-14T13:31:50.321493Z",
     "shell.execute_reply.started": "2025-06-14T13:31:50.309830Z"
    }
   },
   "outputs": [
    {
     "name": "stdout",
     "output_type": "stream",
     "text": [
      "<class 'pandas.core.frame.DataFrame'>\n",
      "Index: 2819 entries, 1 to 2873\n",
      "Data columns (total 8 columns):\n",
      " #   Column       Non-Null Count  Dtype         \n",
      "---  ------       --------------  -----         \n",
      " 0   date         2819 non-null   datetime64[ns]\n",
      " 1   startup      2819 non-null   object        \n",
      " 2   vertical     2819 non-null   object        \n",
      " 3   subvertical  2078 non-null   object        \n",
      " 4   city         2819 non-null   object        \n",
      " 5   investors    2819 non-null   object        \n",
      " 6   round        2819 non-null   object        \n",
      " 7   amount       2819 non-null   float64       \n",
      "dtypes: datetime64[ns](1), float64(1), object(6)\n",
      "memory usage: 198.2+ KB\n"
     ]
    }
   ],
   "source": [
    "df.info()"
   ]
  },
  {
   "cell_type": "code",
   "execution_count": 40,
   "metadata": {
    "execution": {
     "iopub.execute_input": "2025-06-14T13:31:50.324610Z",
     "iopub.status.busy": "2025-06-14T13:31:50.324292Z",
     "iopub.status.idle": "2025-06-14T13:31:50.342346Z",
     "shell.execute_reply": "2025-06-14T13:31:50.341352Z",
     "shell.execute_reply.started": "2025-06-14T13:31:50.324583Z"
    }
   },
   "outputs": [
    {
     "data": {
      "text/plain": [
       "Sr No\n",
       "1                             BYJU’S\n",
       "2                             Shuttl\n",
       "3                          Mamaearth\n",
       "4       https://www.wealthbucket.in/\n",
       "5                             Fashor\n",
       "                    ...             \n",
       "2869                          Tracxn\n",
       "2870                            Dazo\n",
       "2871                        Tradelab\n",
       "2872                          PiQube\n",
       "2873                 Travel Triangle\n",
       "Name: startup, Length: 2819, dtype: object"
      ]
     },
     "execution_count": 40,
     "metadata": {},
     "output_type": "execute_result"
    }
   ],
   "source": [
    "df['startup']"
   ]
  },
  {
   "cell_type": "code",
   "execution_count": 41,
   "metadata": {
    "execution": {
     "iopub.execute_input": "2025-06-14T13:31:50.343570Z",
     "iopub.status.busy": "2025-06-14T13:31:50.343264Z",
     "iopub.status.idle": "2025-06-14T13:31:50.368161Z",
     "shell.execute_reply": "2025-06-14T13:31:50.366818Z",
     "shell.execute_reply.started": "2025-06-14T13:31:50.343541Z"
    }
   },
   "outputs": [
    {
     "data": {
      "text/plain": [
       "round\n",
       "Private Equity    3040.537500\n",
       "Series B            29.628844\n",
       "Seed Funding        19.387500\n",
       "Debt Funding        18.975000\n",
       "Name: amount, dtype: float64"
      ]
     },
     "execution_count": 41,
     "metadata": {},
     "output_type": "execute_result"
    }
   ],
   "source": [
    "df[df['investors'].str.contains('IDG Ventures')].groupby('round')['amount'].sum().sort_values(ascending=False)"
   ]
  },
  {
   "cell_type": "code",
   "execution_count": 42,
   "metadata": {
    "execution": {
     "iopub.execute_input": "2025-06-14T13:31:50.369558Z",
     "iopub.status.busy": "2025-06-14T13:31:50.369241Z",
     "iopub.status.idle": "2025-06-14T13:31:50.393654Z",
     "shell.execute_reply": "2025-06-14T13:31:50.392153Z",
     "shell.execute_reply.started": "2025-06-14T13:31:50.369493Z"
    }
   },
   "outputs": [
    {
     "name": "stdout",
     "output_type": "stream",
     "text": [
      "<class 'pandas.core.frame.DataFrame'>\n",
      "Index: 2819 entries, 1 to 2873\n",
      "Data columns (total 8 columns):\n",
      " #   Column       Non-Null Count  Dtype         \n",
      "---  ------       --------------  -----         \n",
      " 0   date         2819 non-null   datetime64[ns]\n",
      " 1   startup      2819 non-null   object        \n",
      " 2   vertical     2819 non-null   object        \n",
      " 3   subvertical  2078 non-null   object        \n",
      " 4   city         2819 non-null   object        \n",
      " 5   investors    2819 non-null   object        \n",
      " 6   round        2819 non-null   object        \n",
      " 7   amount       2819 non-null   float64       \n",
      "dtypes: datetime64[ns](1), float64(1), object(6)\n",
      "memory usage: 198.2+ KB\n"
     ]
    }
   ],
   "source": [
    "df.info()"
   ]
  },
  {
   "cell_type": "code",
   "execution_count": 43,
   "metadata": {
    "execution": {
     "iopub.execute_input": "2025-06-14T13:31:50.395257Z",
     "iopub.status.busy": "2025-06-14T13:31:50.394908Z",
     "iopub.status.idle": "2025-06-14T13:31:50.425285Z",
     "shell.execute_reply": "2025-06-14T13:31:50.424345Z",
     "shell.execute_reply.started": "2025-06-14T13:31:50.395227Z"
    }
   },
   "outputs": [
    {
     "data": {
      "text/plain": [
       "round\n",
       "Private Equity    3040.537500\n",
       "Series B            29.628844\n",
       "Seed Funding        28.462500\n",
       "Debt Funding        18.975000\n",
       "Name: amount, dtype: float64"
      ]
     },
     "execution_count": 43,
     "metadata": {},
     "output_type": "execute_result"
    }
   ],
   "source": [
    " df[df['investors'].str.contains('IDG Ventures', case=False, na=False)] \\\n",
    "                    .groupby('round')['amount'].sum().sort_values(ascending=False).head(5)"
   ]
  },
  {
   "cell_type": "code",
   "execution_count": 44,
   "metadata": {
    "execution": {
     "iopub.execute_input": "2025-06-14T13:31:50.426501Z",
     "iopub.status.busy": "2025-06-14T13:31:50.426179Z",
     "iopub.status.idle": "2025-06-14T13:31:50.526953Z",
     "shell.execute_reply": "2025-06-14T13:31:50.525815Z",
     "shell.execute_reply.started": "2025-06-14T13:31:50.426471Z"
    }
   },
   "outputs": [],
   "source": [
    "# Step 1: Ensure datetime\n",
    "df['date'] = pd.to_datetime(df['date'], errors='coerce')\n",
    "\n",
    "# Step 2: Extract 'year' column\n",
    "df['year'] = df['date'].dt.year"
   ]
  },
  {
   "cell_type": "code",
   "execution_count": 45,
   "metadata": {
    "execution": {
     "iopub.execute_input": "2025-06-14T13:31:50.528768Z",
     "iopub.status.busy": "2025-06-14T13:31:50.528378Z",
     "iopub.status.idle": "2025-06-14T13:31:50.756589Z",
     "shell.execute_reply": "2025-06-14T13:31:50.755518Z",
     "shell.execute_reply.started": "2025-06-14T13:31:50.528738Z"
    }
   },
   "outputs": [
    {
     "data": {
      "text/plain": [
       "<Axes: xlabel='year'>"
      ]
     },
     "execution_count": 45,
     "metadata": {},
     "output_type": "execute_result"
    },
    {
     "data": {
      "image/png": "[encoded data removed]",
      "text/plain": [
       "<Figure size 640x480 with 1 Axes>"
      ]
     },
     "metadata": {},
     "output_type": "display_data"
    }
   ],
   "source": [
    "df[df['investors'].str.contains('IDG Ventures', case=False, na=False)].groupby('year')['amount'].sum().plot()\n"
   ]
  },
  {
   "cell_type": "code",
   "execution_count": 46,
   "metadata": {
    "execution": {
     "iopub.execute_input": "2025-06-14T13:31:50.757971Z",
     "iopub.status.busy": "2025-06-14T13:31:50.757644Z",
     "iopub.status.idle": "2025-06-14T13:31:50.766431Z",
     "shell.execute_reply": "2025-06-14T13:31:50.765587Z",
     "shell.execute_reply.started": "2025-06-14T13:31:50.757942Z"
    }
   },
   "outputs": [
    {
     "data": {
      "text/plain": [
       "296471"
      ]
     },
     "execution_count": 46,
     "metadata": {},
     "output_type": "execute_result"
    }
   ],
   "source": [
    "round(df['amount'].sum())"
   ]
  },
  {
   "cell_type": "code",
   "execution_count": 47,
   "metadata": {
    "execution": {
     "iopub.execute_input": "2025-06-14T13:31:50.767708Z",
     "iopub.status.busy": "2025-06-14T13:31:50.767395Z",
     "iopub.status.idle": "2025-06-14T13:31:50.790165Z",
     "shell.execute_reply": "2025-06-14T13:31:50.789053Z",
     "shell.execute_reply.started": "2025-06-14T13:31:50.767680Z"
    }
   },
   "outputs": [
    {
     "data": {
      "text/plain": [
       "32175.0"
      ]
     },
     "execution_count": 47,
     "metadata": {},
     "output_type": "execute_result"
    }
   ],
   "source": [
    "df.groupby('startup')['amount'].max().sort_values(ascending=False).head(1).values[0]"
   ]
  },
  {
   "cell_type": "code",
   "execution_count": 51,
   "metadata": {
    "execution": {
     "iopub.execute_input": "2025-06-14T13:31:51.046408Z",
     "iopub.status.busy": "2025-06-14T13:31:51.046064Z",
     "iopub.status.idle": "2025-06-14T13:31:51.172706Z",
     "shell.execute_reply": "2025-06-14T13:31:51.171459Z",
     "shell.execute_reply.started": "2025-06-14T13:31:51.046379Z"
    }
   },
   "outputs": [
    {
     "data": {
      "text/plain": [
       "<Axes: ylabel='amount'>"
      ]
     },
     "execution_count": 51,
     "metadata": {},
     "output_type": "execute_result"
    },
    {
     "data": {
      "image/png": "[encoded data removed]",
      "text/plain": [
       "<Figure size 640x480 with 1 Axes>"
      ]
     },
     "metadata": {},
     "output_type": "display_data"
    }
   ],
   "source": [
    "df[df['investors'].str.contains('IDG Ventures', case=False, na=False)] \\\n",
    "                        .groupby('vertical')['amount'].sum().sort_values(ascending=False).head(5).plot(kind='pie')"
   ]
  },
  {
   "cell_type": "code",
   "execution_count": 48,
   "metadata": {
    "execution": {
     "iopub.execute_input": "2025-06-14T13:31:50.791849Z",
     "iopub.status.busy": "2025-06-14T13:31:50.791319Z",
     "iopub.status.idle": "2025-06-14T13:31:50.802953Z",
     "shell.execute_reply": "2025-06-14T13:31:50.801972Z",
     "shell.execute_reply.started": "2025-06-14T13:31:50.791819Z"
    }
   },
   "outputs": [
    {
     "data": {
      "text/plain": [
       "129.06885988844144"
      ]
     },
     "execution_count": 48,
     "metadata": {},
     "output_type": "execute_result"
    }
   ],
   "source": [
    " df.groupby('startup')['amount'].sum().mean()"
   ]
  },
  {
   "cell_type": "code",
   "execution_count": 49,
   "metadata": {
    "execution": {
     "iopub.execute_input": "2025-06-14T13:31:50.804453Z",
     "iopub.status.busy": "2025-06-14T13:31:50.804129Z",
     "iopub.status.idle": "2025-06-14T13:31:50.820386Z",
     "shell.execute_reply": "2025-06-14T13:31:50.819385Z",
     "shell.execute_reply.started": "2025-06-14T13:31:50.804425Z"
    }
   },
   "outputs": [
    {
     "data": {
      "text/plain": [
       "2297"
      ]
     },
     "execution_count": 49,
     "metadata": {},
     "output_type": "execute_result"
    }
   ],
   "source": [
    "df['startup'].nunique()"
   ]
  },
  {
   "cell_type": "code",
   "execution_count": 50,
   "metadata": {
    "execution": {
     "iopub.execute_input": "2025-06-14T13:31:50.821771Z",
     "iopub.status.busy": "2025-06-14T13:31:50.821385Z",
     "iopub.status.idle": "2025-06-14T13:31:51.043979Z",
     "shell.execute_reply": "2025-06-14T13:31:51.042831Z",
     "shell.execute_reply.started": "2025-06-14T13:31:50.821729Z"
    }
   },
   "outputs": [
    {
     "data": {
      "text/plain": [
       "<Axes: xlabel='startup'>"
      ]
     },
     "execution_count": 50,
     "metadata": {},
     "output_type": "execute_result"
    },
    {
     "data": {
      "image/png": "[encoded data removed]",
      "text/plain": [
       "<Figure size 640x480 with 1 Axes>"
      ]
     },
     "metadata": {},
     "output_type": "display_data"
    }
   ],
   "source": [
    "# (\\) is use for only break line into new line\n",
    "df[df['investors'].str.contains('IDG Ventures', case=False, na=False)] \\\n",
    "                        .groupby('startup')['amount'].sum().sort_values(ascending=False).head(10).plot(kind='bar')"
   ]
  },
  {
   "cell_type": "code",
   "execution_count": 52,
   "metadata": {
    "execution": {
     "iopub.execute_input": "2025-06-14T13:31:51.173966Z",
     "iopub.status.busy": "2025-06-14T13:31:51.173660Z",
     "iopub.status.idle": "2025-06-14T13:31:51.303935Z",
     "shell.execute_reply": "2025-06-14T13:31:51.302662Z",
     "shell.execute_reply.started": "2025-06-14T13:31:51.173938Z"
    }
   },
   "outputs": [
    {
     "data": {
      "text/plain": [
       "<Axes: ylabel='amount'>"
      ]
     },
     "execution_count": 52,
     "metadata": {},
     "output_type": "execute_result"
    },
    {
     "data": {
      "image/png": "[encoded data removed]",
      "text/plain": [
       "<Figure size 640x480 with 1 Axes>"
      ]
     },
     "metadata": {},
     "output_type": "display_data"
    }
   ],
   "source": [
    "df[df['investors'].str.contains('IDG Ventures', case=False, na=False)] \\\n",
    "                    .groupby('round')['amount'].sum().sort_values(ascending=False).head(5).plot(kind='pie')"
   ]
  },
  {
   "cell_type": "code",
   "execution_count": 53,
   "metadata": {
    "execution": {
     "iopub.execute_input": "2025-06-14T13:31:51.305030Z",
     "iopub.status.busy": "2025-06-14T13:31:51.304791Z",
     "iopub.status.idle": "2025-06-14T13:31:51.422621Z",
     "shell.execute_reply": "2025-06-14T13:31:51.421703Z",
     "shell.execute_reply.started": "2025-06-14T13:31:51.305012Z"
    }
   },
   "outputs": [
    {
     "data": {
      "text/plain": [
       "<Axes: ylabel='amount'>"
      ]
     },
     "execution_count": 53,
     "metadata": {},
     "output_type": "execute_result"
    },
    {
     "data": {
      "image/png": "[encoded data removed]",
      "text/plain": [
       "<Figure size 640x480 with 1 Axes>"
      ]
     },
     "metadata": {},
     "output_type": "display_data"
    }
   ],
   "source": [
    "df[df['investors'].str.contains('IDG Ventures', case=False, na=False)] \\\n",
    "                    .groupby('city')['amount'].sum().sort_values(ascending=False).head(5).plot(kind='pie')"
   ]
  },
  {
   "cell_type": "code",
   "execution_count": 33,
   "metadata": {
    "execution": {
     "iopub.execute_input": "2025-06-14T13:31:49.743949Z",
     "iopub.status.busy": "2025-06-14T13:31:49.743050Z",
     "iopub.status.idle": "2025-06-14T13:31:49.787831Z",
     "shell.execute_reply": "2025-06-14T13:31:49.786563Z",
     "shell.execute_reply.started": "2025-06-14T13:31:49.743915Z"
    }
   },
   "outputs": [],
   "source": [
    "df.to_csv('start_up_cleaned.csv',index=False)"
   ]
  },
  {
   "cell_type": "code",
   "execution_count": null,
   "metadata": {},
   "outputs": [],
   "source": []
  }
 ],
 "metadata": {
  "kaggle": {
   "accelerator": "none",
   "dataSources": [
    {
     "datasetId": 1902,
     "sourceId": 941761,
     "sourceType": "datasetVersion"
    }
   ],
   "dockerImageVersionId": 31040,
   "isGpuEnabled": false,
   "isInternetEnabled": false,
   "language": "python",
   "sourceType": "notebook"
  },
  "kernelspec": {
   "display_name": "Python 3 (ipykernel)",
   "language": "python",
   "name": "python3"
  },
  "language_info": {
   "codemirror_mode": {
    "name": "ipython",
    "version": 3
   },
   "file_extension": ".py",
   "mimetype": "text/x-python",
   "name": "python",
   "nbconvert_exporter": "python",
   "pygments_lexer": "ipython3",
   "version": "3.12.2"
  }
 },
 "nbformat": 4,
 "nbformat_minor": 4
}
